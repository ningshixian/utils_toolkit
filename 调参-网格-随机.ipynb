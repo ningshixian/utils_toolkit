{
 "cells": [
  {
   "cell_type": "markdown",
   "metadata": {},
   "source": [
    "# sklearn"
   ]
  },
  {
   "cell_type": "markdown",
   "metadata": {},
   "source": [
    "导入库"
   ]
  },
  {
   "cell_type": "code",
   "execution_count": null,
   "metadata": {},
   "outputs": [],
   "source": [
    "from sklearn.model_selection import RandomizedSearchCV, GridSearchCV"
   ]
  },
  {
   "cell_type": "markdown",
   "metadata": {},
   "source": [
    "参数设置"
   ]
  },
  {
   "cell_type": "code",
   "execution_count": null,
   "metadata": {},
   "outputs": [],
   "source": [
    "ranking_param = {\n",
    "    \"num_leaves\": list(range(31, 50)),\n",
    "    \"learning_rate\": [0.1, 0.01],\n",
    "    \"n_estimators\": [300, 400, 600, 800, 1000],\n",
    "    \"max_depth\": [2, 3, 4, 5, 6, -1],\n",
    "    \"boosting_type\": [\"gbdt\"],\n",
    "    \"objective\": [\"lambdarank\"],\n",
    "    \"scoring\": [\"ndcg\"],\n",
    "}\n",
    "\n",
    "fit_params = {\n",
    "    \"early_stopping_rounds\": 30,\n",
    "    \"eval_metric\": \"ndcg\",\n",
    "    \"eval_set\": [(x_dev, y_dev)],\n",
    "    \"eval_group\": [q_dev],\n",
    "    'eval_at': [1, 3],\n",
    "    \"verbose\": True,\n",
    "    \"group\": np.array([x_train.shape[0]*2/3]),\n",
    "}\n",
    "model = ......"
   ]
  },
  {
   "cell_type": "markdown",
   "metadata": {},
   "source": [
    "网格调参"
   ]
  },
  {
   "cell_type": "code",
   "execution_count": null,
   "metadata": {},
   "outputs": [],
   "source": [
    "grid_search = GridSearchCV(estimator=model, n_jobs=1, param_grid=ranking_param, cv = 3, verbose=True)\n",
    "grid_search.fit(x_train, y_train, **fit_params)"
   ]
  },
  {
   "cell_type": "markdown",
   "metadata": {},
   "source": [
    "随机搜索"
   ]
  },
  {
   "cell_type": "code",
   "execution_count": null,
   "metadata": {},
   "outputs": [],
   "source": [
    "clf = RandomizedSearchCV(\n",
    "    estimator=gbm,\n",
    "    param_distributions=ranking_param,\n",
    "    n_iter=100,\n",
    "    scoring=\"roc_auc\",\n",
    "    cv=3,\n",
    "    refit=True,\n",
    "    random_state=314,\n",
    "    verbose=True,\n",
    ")\n",
    "search = clf.fit(x_train, y_train, **fit_params)\n",
    "\n",
    "print(\n",
    "    \"Best score reached: {} with params: {} \".format(\n",
    "        search.best_score_, search.best_params_\n",
    "    )\n",
    ")"
   ]
  },
  {
   "cell_type": "markdown",
   "metadata": {},
   "source": [
    "# optuna"
   ]
  },
  {
   "cell_type": "markdown",
   "metadata": {},
   "source": [
    "https://github.com/optuna/optuna/blob/master/examples/lightgbm_simple.py\n",
    "\n",
    "https://zhuanlan.zhihu.com/p/138521995\n",
    "\n",
    "支持的部分库有(全部请参见官网)：\n",
    "\n",
    "XGBoost\n",
    "LightGBM\n",
    "Sklearn\n",
    "Keras\n",
    "TensorFlow\n",
    "tf.keras\n",
    "MXNet\n",
    "PyTorch\n",
    "FastAI\n",
    "\n",
    "导入库"
   ]
  },
  {
   "cell_type": "code",
   "execution_count": null,
   "metadata": {},
   "outputs": [],
   "source": [
    "import optuna\n",
    "import lightgbm as lgb"
   ]
  },
  {
   "cell_type": "markdown",
   "metadata": {},
   "source": [
    "参数设置"
   ]
  },
  {
   "cell_type": "code",
   "execution_count": null,
   "metadata": {},
   "outputs": [],
   "source": [
    "def objective(trial):\n",
    "    params = {\n",
    "        \"task\": \"train\",\n",
    "        \"objective\": \"lambdarank\",\n",
    "        \"boosting_type\": \"gbdt\",\n",
    "        \"max_depth\": trial.suggest_int(\"max_depth\", 2, 7),\n",
    "        \"metric\": \"ndcg\",\n",
    "        \"ndcg_at\": [1, 3, 5],\n",
    "        \"max_position\": 5,  # @NDCG 位置优化 5\n",
    "        \"max_bin\": trial.suggest_categorical(\"max_bin\", [255, 512]),\n",
    "        \"lambda_l1\": trial.suggest_float(\"lambda_l1\", 1e-8, 10.0),\n",
    "        \"lambda_l2\": trial.suggest_float(\"lambda_l2\", 1e-8, 10.0),  #  log=True\n",
    "        \"num_leaves\": trial.suggest_int(\n",
    "            \"num_leaves\", 31, 256\n",
    "        ),  # 从1～3范围内的int里选 ≈max_depth\n",
    "        \"learning_rate\": trial.suggest_categorical(\n",
    "            \"learning_rate\", [0.01, 0.005, 0.001]\n",
    "        ),  # 学习率\n",
    "        'feature_fraction': trial.suggest_uniform('feature_fraction', 0, 1),\n",
    "        'bagging_fraction': trial.suggest_uniform('feature_fraction', 0, 1),\n",
    "        'bagging_freq': trial.suggest_int(\"min_child_samples\", 1, 10),\n",
    "        \"min_data_in_leaf\": trial.suggest_categorical('min_data_in_leaf', [10, 20, 30, 80]),  # 一个叶子节点上包含的最少样本数量 1 [10, 20]\n",
    "        \"min_child_samples\": trial.suggest_int(\"min_child_samples\", 5, 100),\n",
    "    }\n",
    "\n",
    "    gbm = lgb.train(\n",
    "        params,\n",
    "        train_data,\n",
    "        num_boost_round=400,\n",
    "        valid_sets=[dev_data],\n",
    "        categorical_feature=cate_cols,\n",
    "        early_stopping_rounds=50,\n",
    "        verbose_eval=-1,\n",
    "    )  # verbose_eval=-1: suppresses most of LightGBM output\n",
    "\n",
    "    # Save a trained model to a file.\n",
    "    gbm.save_model(setting.model_root + '{}.mod'.format(trial.number))\n",
    "    with codecs.open(setting.model_root + '{}.best_iteration.txt'.format(trial.number), \"w\", \"utf-8\") as f:\n",
    "        f.write(str(gbm.best_iteration))\n",
    "    \n",
    "    test_predict = gbm.predict(test_X, num_iteration=gbm.best_iteration, categorical_feature=cate_cols)\n",
    "    average_ndcg, _ = validate(q_test, test_y, test_predict, 60)    # 所有qid的平均ndcg\n",
    "    return average_ndcg"
   ]
  },
  {
   "cell_type": "markdown",
   "metadata": {},
   "source": [
    "随机搜索"
   ]
  },
  {
   "cell_type": "code",
   "execution_count": null,
   "metadata": {},
   "outputs": [],
   "source": [
    "# 创建一个学习实例，因为objective返回的评价指标是ndcg，因此目标是最大化\n",
    "study = optuna.create_study(direction=\"maximize\")\n",
    "# n_trials代表搜索100种\n",
    "study.optimize(objective, n_trials=100)  # , n_jobs=-1"
   ]
  },
  {
   "cell_type": "markdown",
   "metadata": {},
   "source": [
    "输出"
   ]
  },
  {
   "cell_type": "code",
   "execution_count": null,
   "metadata": {},
   "outputs": [],
   "source": [
    "print(\"最优超参: \", study.best_params)\n",
    "print(\"最优超参下，objective函数返回的值: \", study.best_value)\n",
    "print(\"Number of finished trials: {}\".format(len(study.trials)))\n",
    "print(\"Best trial:\")\n",
    "trial = study.best_trial\n",
    "print(\"  Value: {}\".format(trial.value))\n",
    "print(\"  Params: \")\n",
    "for key, value in trial.params.items():\n",
    "    print(\"    {}: {}\".format(key, value))"
   ]
  }
 ],
 "metadata": {
  "kernelspec": {
   "display_name": "Python 3",
   "language": "python",
   "name": "python3"
  },
  "language_info": {
   "codemirror_mode": {
    "name": "ipython",
    "version": 3
   },
   "file_extension": ".py",
   "mimetype": "text/x-python",
   "name": "python",
   "nbconvert_exporter": "python",
   "pygments_lexer": "ipython3",
   "version": "3.7.5"
  }
 },
 "nbformat": 4,
 "nbformat_minor": 4
}
